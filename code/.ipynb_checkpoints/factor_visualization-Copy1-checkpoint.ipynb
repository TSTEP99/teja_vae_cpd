{
 "cells": [
  {
   "cell_type": "code",
   "execution_count": 1,
   "metadata": {},
   "outputs": [],
   "source": [
    "import sys\n",
    "from matplotlib import cm, colors, colorbar\n",
    "\n",
    "# Import MNE, as well as the MNE sample dataset\n",
    "from mne import io\n",
    "from mne.datasets import sample\n",
    "from mne.viz import plot_topomap\n",
    "from mne.time_frequency import psd_welch\n",
    "from preprocess import process_eegs\n",
    "from scipy.stats import ttest_ind\n",
    "from teja_vae_cpd import teja_vae_cpd\n",
    "import mne\n",
    "import matplotlib.pyplot as plt\n",
    "import numpy as np\n",
    "import seaborn as sns\n",
    "import sys\n",
    "import TensorFox as tfx\n",
    "import torch\n",
    "import torch.nn as nn"
   ]
  },
  {
   "cell_type": "code",
   "execution_count": 2,
   "metadata": {},
   "outputs": [],
   "source": [
    "full_psds, _, _, _, _, grade, epi_dx, alz_dx, _, _, _, _, raw_eegs = process_eegs(return_raw= True)\n",
    "an_eegs = raw_eegs[(epi_dx<0) & (alz_dx<0)]\n",
    "pop_psds= full_psds[(epi_dx<0) & (alz_dx<0)]\n",
    "psds_min = torch.min(pop_psds)\n",
    "psds_max = torch.max(pop_psds)\n",
    "\n",
    "trans_psds = (pop_psds - psds_min)/(psds_max - psds_min)"
   ]
  },
  {
   "cell_type": "code",
   "execution_count": 3,
   "metadata": {},
   "outputs": [],
   "source": [
    "ch_names = ['fp1', 'f3', 'f7', 'c3', 't7', 'p3', 'p7', 'o1', \n",
    "            'fp2', 'f4', 'f8', 'c4', 't8', 'p4', 'p8', 'o2',\n",
    "            'fz', 'cz', 'pz']\n",
    "ch_names = [ch_name.rstrip('.').upper().replace('Z', 'z').replace('FP', 'Fp') for ch_name in ch_names]\n",
    "ch_types = ['eeg'] * len(ch_names)\n",
    "info = mne.create_info(ch_names, ch_types=ch_types, sfreq=256)\n",
    "info.set_montage('standard_1020')\n",
    "\n",
    "def plot_factors(factors, d=3, factors_name=[\"Epochs\", \"Topomap\", \"Spectrum\"]):\n",
    "\n",
    "    rank = factors[0].shape[1]\n",
    "    \n",
    "    # sns.reset_orig()\n",
    "    fig, all_axs = plt.subplots(rank, d, figsize=(12, int(rank * 2 + 1)))\n",
    "    \n",
    "    for ind, (factor, axs) in enumerate(zip(factors[:d], all_axs.T)):\n",
    "        # axs[-1].set_xlabel(factors_name[ind])\n",
    "        for i, (f, ax) in enumerate(zip(factor.T, axs)):\n",
    "            if ind == 0:\n",
    "                sns.kdeplot(data=f, ax=ax)\n",
    "            if ind == 1:\n",
    "                mne.viz.plot_topomap(f, info, sensors=False, contours=0, cmap=cm.viridis, show=False, axes=ax)\n",
    "            if ind == 2:\n",
    "                sns.despine(top=True, ax=ax)\n",
    "                ax.plot(f)\n",
    "                ax.set_xlabel(\"Frequency (Hz)\")\n",
    "            all_axs[i, 0].set_ylabel(\"Factor \" + str(i+1))\n",
    "    fig.tight_layout()\n",
    "    plt.show()"
   ]
  },
  {
   "cell_type": "code",
   "execution_count": null,
   "metadata": {},
   "outputs": [],
   "source": [
    "model = torch.load(\"../checkpoints/teja_vae_cp_supervised_laplacian_total_variation_rank_6.pth\") \n",
    "model.eval()\n",
    "model.to(\"cpu\")\n",
    "trans_psds = trans_psds.to(torch.float32)\n",
    "epoch_components, _, _ = model.encoder(trans_psds)\n",
    "epoch_components = epoch_components.detach().cpu()\n",
    "spatial_components = model.decoder.other_mus[0].detach().cpu()\n",
    "frequency_components = model.decoder.other_mus[1].detach().cpu()\n",
    "\n",
    "factors = [epoch_components, spatial_components, frequency_components]\n",
    "tfx.change_sign(factors)"
   ]
  },
  {
   "cell_type": "code",
   "execution_count": 9,
   "metadata": {},
   "outputs": [
    {
     "name": "stdout",
     "output_type": "stream",
     "text": [
      "6\n"
     ]
    }
   ],
   "source": [
    "rank = epoch_components.shape[1]\n",
    "print(rank)"
   ]
  },
  {
   "cell_type": "code",
   "execution_count": null,
   "metadata": {},
   "outputs": [],
   "source": []
  }
 ],
 "metadata": {
  "kernelspec": {
   "display_name": "Python 3 (ipykernel)",
   "language": "python",
   "name": "python3"
  },
  "language_info": {
   "codemirror_mode": {
    "name": "ipython",
    "version": 3
   },
   "file_extension": ".py",
   "mimetype": "text/x-python",
   "name": "python",
   "nbconvert_exporter": "python",
   "pygments_lexer": "ipython3",
   "version": "3.9.16"
  }
 },
 "nbformat": 4,
 "nbformat_minor": 4
}
